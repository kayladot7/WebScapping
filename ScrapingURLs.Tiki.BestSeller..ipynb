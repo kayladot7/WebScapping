{
 "cells": [
  {
   "cell_type": "code",
   "execution_count": 1,
   "metadata": {},
   "outputs": [],
   "source": [
    "from bs4 import BeautifulSoup\n",
    "import requests"
   ]
  },
  {
   "cell_type": "markdown",
   "metadata": {},
   "source": [
    "### Get next link"
   ]
  },
  {
   "cell_type": "code",
   "execution_count": 2,
   "metadata": {},
   "outputs": [
    {
     "data": {
      "text/plain": [
       "'https://tiki.vn/search?q=b%C3%A1n+ch%E1%BA%A1y&order=top_seller&page=2'"
      ]
     },
     "execution_count": 2,
     "metadata": {},
     "output_type": "execute_result"
    }
   ],
   "source": [
    "url = 'https://tiki.vn/search?q=b%C3%A1n%20ch%E1%BA%A1y&order=top_seller'\n",
    "base_url = 'https://tiki.vn'\n",
    "\n",
    "r = requests.get(url)\n",
    "\n",
    "soup = BeautifulSoup(r.text)\n",
    "elm = soup.find('a',{\"class\":\"next\"})\n",
    "\n",
    "next_page_link = base_url+elm['href']\n",
    "next_page_link"
   ]
  },
  {
   "cell_type": "markdown",
   "metadata": {},
   "source": [
    "### Get all links from one URL"
   ]
  },
  {
   "cell_type": "code",
   "execution_count": 3,
   "metadata": {},
   "outputs": [],
   "source": [
    "urls = ['https://tiki.vn/search?q=b%C3%A1n%20ch%E1%BA%A1y&order=top_seller']"
   ]
  },
  {
   "cell_type": "code",
   "execution_count": 5,
   "metadata": {},
   "outputs": [
    {
     "name": "stdout",
     "output_type": "stream",
     "text": [
      "https://tiki.vn/search?q=b%C3%A1n+ch%E1%BA%A1y&order=top_seller&page=2\n",
      "https://tiki.vn/search?q=b%C3%A1n+ch%E1%BA%A1y&order=top_seller&page=3\n",
      "https://tiki.vn/search?q=b%C3%A1n+ch%E1%BA%A1y&order=top_seller&page=4\n",
      "https://tiki.vn/search?q=b%C3%A1n+ch%E1%BA%A1y&order=top_seller&page=5\n",
      "https://tiki.vn/search?q=b%C3%A1n+ch%E1%BA%A1y&order=top_seller&page=6\n",
      "https://tiki.vn/search?q=b%C3%A1n+ch%E1%BA%A1y&order=top_seller&page=7\n",
      "https://tiki.vn/search?q=b%C3%A1n+ch%E1%BA%A1y&order=top_seller&page=8\n",
      "https://tiki.vn/search?q=b%C3%A1n+ch%E1%BA%A1y&order=top_seller&page=9\n"
     ]
    }
   ],
   "source": [
    "i = True\n",
    "while(i):\n",
    "    with requests.get(urls[-1]) as r:\n",
    "        soup = BeautifulSoup(r.text)\n",
    "        if soup.find('a',{'class':'next'}):\n",
    "            elm = soup.find('a',{'class':'next'})\n",
    "            next_page_link = base_url + elm['href']\n",
    "            urls.append(next_page_link)\n",
    "            print(next_page_link)\n",
    "        else:\n",
    "            i = False\n",
    "            break"
   ]
  },
  {
   "cell_type": "code",
   "execution_count": 6,
   "metadata": {},
   "outputs": [
    {
     "data": {
      "text/plain": [
       "9"
      ]
     },
     "execution_count": 6,
     "metadata": {},
     "output_type": "execute_result"
    }
   ],
   "source": [
    "len(urls)"
   ]
  },
  {
   "cell_type": "code",
   "execution_count": 8,
   "metadata": {},
   "outputs": [
    {
     "data": {
      "text/html": [
       "<div>\n",
       "<style scoped>\n",
       "    .dataframe tbody tr th:only-of-type {\n",
       "        vertical-align: middle;\n",
       "    }\n",
       "\n",
       "    .dataframe tbody tr th {\n",
       "        vertical-align: top;\n",
       "    }\n",
       "\n",
       "    .dataframe thead th {\n",
       "        text-align: right;\n",
       "    }\n",
       "</style>\n",
       "<table border=\"1\" class=\"dataframe\">\n",
       "  <thead>\n",
       "    <tr style=\"text-align: right;\">\n",
       "      <th></th>\n",
       "      <th>url</th>\n",
       "    </tr>\n",
       "  </thead>\n",
       "  <tbody>\n",
       "    <tr>\n",
       "      <td>0</td>\n",
       "      <td>https://tiki.vn/search?q=b%C3%A1n%20ch%E1%BA%A...</td>\n",
       "    </tr>\n",
       "    <tr>\n",
       "      <td>1</td>\n",
       "      <td>https://tiki.vn/search?q=b%C3%A1n+ch%E1%BA%A1y...</td>\n",
       "    </tr>\n",
       "    <tr>\n",
       "      <td>2</td>\n",
       "      <td>https://tiki.vn/search?q=b%C3%A1n+ch%E1%BA%A1y...</td>\n",
       "    </tr>\n",
       "    <tr>\n",
       "      <td>3</td>\n",
       "      <td>https://tiki.vn/search?q=b%C3%A1n+ch%E1%BA%A1y...</td>\n",
       "    </tr>\n",
       "    <tr>\n",
       "      <td>4</td>\n",
       "      <td>https://tiki.vn/search?q=b%C3%A1n+ch%E1%BA%A1y...</td>\n",
       "    </tr>\n",
       "    <tr>\n",
       "      <td>5</td>\n",
       "      <td>https://tiki.vn/search?q=b%C3%A1n+ch%E1%BA%A1y...</td>\n",
       "    </tr>\n",
       "    <tr>\n",
       "      <td>6</td>\n",
       "      <td>https://tiki.vn/search?q=b%C3%A1n+ch%E1%BA%A1y...</td>\n",
       "    </tr>\n",
       "    <tr>\n",
       "      <td>7</td>\n",
       "      <td>https://tiki.vn/search?q=b%C3%A1n+ch%E1%BA%A1y...</td>\n",
       "    </tr>\n",
       "    <tr>\n",
       "      <td>8</td>\n",
       "      <td>https://tiki.vn/search?q=b%C3%A1n+ch%E1%BA%A1y...</td>\n",
       "    </tr>\n",
       "  </tbody>\n",
       "</table>\n",
       "</div>"
      ],
      "text/plain": [
       "                                                 url\n",
       "0  https://tiki.vn/search?q=b%C3%A1n%20ch%E1%BA%A...\n",
       "1  https://tiki.vn/search?q=b%C3%A1n+ch%E1%BA%A1y...\n",
       "2  https://tiki.vn/search?q=b%C3%A1n+ch%E1%BA%A1y...\n",
       "3  https://tiki.vn/search?q=b%C3%A1n+ch%E1%BA%A1y...\n",
       "4  https://tiki.vn/search?q=b%C3%A1n+ch%E1%BA%A1y...\n",
       "5  https://tiki.vn/search?q=b%C3%A1n+ch%E1%BA%A1y...\n",
       "6  https://tiki.vn/search?q=b%C3%A1n+ch%E1%BA%A1y...\n",
       "7  https://tiki.vn/search?q=b%C3%A1n+ch%E1%BA%A1y...\n",
       "8  https://tiki.vn/search?q=b%C3%A1n+ch%E1%BA%A1y..."
      ]
     },
     "execution_count": 8,
     "metadata": {},
     "output_type": "execute_result"
    }
   ],
   "source": [
    "import pandas as pd\n",
    "df = pd.DataFrame(data={\"url\":urls})\n",
    "df"
   ]
  }
 ],
 "metadata": {
  "kernelspec": {
   "display_name": "Python 3",
   "language": "python",
   "name": "python3"
  },
  "language_info": {
   "codemirror_mode": {
    "name": "ipython",
    "version": 3
   },
   "file_extension": ".py",
   "mimetype": "text/x-python",
   "name": "python",
   "nbconvert_exporter": "python",
   "pygments_lexer": "ipython3",
   "version": "3.7.4"
  }
 },
 "nbformat": 4,
 "nbformat_minor": 2
}
