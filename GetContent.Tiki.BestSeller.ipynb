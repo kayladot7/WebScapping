{
 "cells": [
  {
   "cell_type": "code",
   "execution_count": 1,
   "metadata": {},
   "outputs": [],
   "source": [
    "from bs4 import BeautifulSoup\n",
    "import requests, re"
   ]
  },
  {
   "cell_type": "code",
   "execution_count": 2,
   "metadata": {},
   "outputs": [],
   "source": [
    "site = 'https://tiki.vn/search?q=b%C3%A1n%20ch%E1%BA%A1y&order=top_seller'\n",
    "response = requests.get(site)\n",
    "soup = BeautifulSoup(response.text, 'html.parser')"
   ]
  },
  {
   "cell_type": "code",
   "execution_count": 3,
   "metadata": {},
   "outputs": [],
   "source": [
    "product_names = soup.find_all('div')"
   ]
  },
  {
   "cell_type": "code",
   "execution_count": 5,
   "metadata": {},
   "outputs": [
    {
     "data": {
      "text/plain": [
       "[<div class=\"hidden-xs hidden-sm\" id=\"top-bar-container\">\n",
       " </div>]"
      ]
     },
     "execution_count": 5,
     "metadata": {},
     "output_type": "execute_result"
    }
   ],
   "source": [
    "#product_names[:1]"
   ]
  },
  {
   "cell_type": "code",
   "execution_count": 6,
   "metadata": {},
   "outputs": [
    {
     "data": {
      "text/plain": [
       "bs4.element.ResultSet"
      ]
     },
     "execution_count": 6,
     "metadata": {},
     "output_type": "execute_result"
    }
   ],
   "source": [
    "type(product_names)"
   ]
  },
  {
   "cell_type": "code",
   "execution_count": 8,
   "metadata": {},
   "outputs": [],
   "source": [
    "titles = []\n",
    "for i in range(len(product_names)):\n",
    "    if product_names[i].has_attr('data-title'): \n",
    "        titles.append(product_names[i]['data-title'])"
   ]
  },
  {
   "cell_type": "code",
   "execution_count": 10,
   "metadata": {},
   "outputs": [
    {
     "data": {
      "text/plain": [
       "['Combo Sách Kỹ Năng: Đắc Nhân Tâm + Đọc Vị Bất Kỳ Ai + Quẳng Gánh Lo Đi Và Vui Sống + Tuổi Trẻ Đáng Giá Bao Nhiêu? + Nhà Giả Kim (Top 5 Cuốn Sách Kỹ Năng Sống, Tư Duy Và Làm Việc Bán Chạy Nhất Thế Giới - Tặng Kèm Postcard Green Life)',\n",
       " 'Combo Cẩm Nang Học Tiếng Hàn Bán Chạy: Tiếng Hàn Tổng Hợp Dành Cho Người Việt Nam - Sơ Cấp 2: Giáo Trình + Sách Bài Tập (Bộ Sách Giúp Bạn Công Phá Tiếng Hàn Thành Công / Tặng Kèm Bookmark Green Life)',\n",
       " 'Combo 2 Cuốn Sách Tư Duy - Kỹ Năng Sống Hay: Đời Ngắn Đừng Ngủ Dài (Tái Bản) + Đừng Lựa Chọn An Nhàn Khi Còn Trẻ / Những Cuốn Sách Kỹ Năng Sống Bán Chạy Nhất (Tặng Kèm Bookmark Happy Life)',\n",
       " 'Sách Kỹ Năng Sống Bán Chạy: Nóng Giận Là Bản Năng, Tĩnh Lặng Là Bản Lĩnh (Bí Kíp Tu Dưỡng Một Trái Tim Trong Sáng / Tặng Kèm Bookmark Green Life)',\n",
       " 'Bộ máy tính để bàn nâng cấp chip intel Pentium chuyên dùng văn phòng, học tập, game nhẹ chạy siêu mượt office, autocard, photoshop, phần mềm kế toán, bán hàng...màn 22 inch mới full box']"
      ]
     },
     "execution_count": 10,
     "metadata": {},
     "output_type": "execute_result"
    }
   ],
   "source": [
    "titles[:5]"
   ]
  },
  {
   "cell_type": "code",
   "execution_count": 11,
   "metadata": {},
   "outputs": [],
   "source": [
    "books = soup.find_all('p', attrs={\"class\":\"title\"})"
   ]
  },
  {
   "cell_type": "code",
   "execution_count": 15,
   "metadata": {},
   "outputs": [],
   "source": [
    "list_of_titles = [] \n",
    "for title in books:\n",
    "    list_of_titles.append((title.text).strip())"
   ]
  },
  {
   "cell_type": "code",
   "execution_count": 16,
   "metadata": {},
   "outputs": [
    {
     "data": {
      "text/plain": [
       "['Combo Sách Kỹ Năng: Đắc Nhân Tâm + Đọc Vị...',\n",
       " 'Combo Cẩm Nang Học Tiếng Hàn Bán Chạy: Tiếng...',\n",
       " 'Combo 2 Cuốn Sách Tư Duy - Kỹ Năng Sống Hay:...',\n",
       " 'Sách Kỹ Năng Sống Bán Chạy: Nóng Giận Là Bản...',\n",
       " 'Bộ máy tính để bàn nâng cấp chip intel...']"
      ]
     },
     "execution_count": 16,
     "metadata": {},
     "output_type": "execute_result"
    }
   ],
   "source": [
    "list_of_titles[:5]"
   ]
  },
  {
   "cell_type": "code",
   "execution_count": 17,
   "metadata": {},
   "outputs": [],
   "source": [
    "# 209.000đ => 209000\n",
    "def get_price(str_price): \n",
    "    price = 0\n",
    "    str_price = (str_price.text).strip().split() \n",
    "    if len(str_price)>0:\n",
    "        str_price = str_price[0].replace(\"đ\", \"\")\n",
    "        price = float(str_price.replace(\".\", \"\")) \n",
    "    return price"
   ]
  },
  {
   "cell_type": "code",
   "execution_count": 18,
   "metadata": {},
   "outputs": [],
   "source": [
    "# Cách khắc phục khi 1 element không có cùng các element con\n",
    "list_of_final_prices = []\n",
    "list_of_regular_prices = []\n",
    "prices = soup.find_all('p', attrs={\"class\":\"price-sale\"}) \n",
    "for section in prices:\n",
    "    if section.find('span', 'final-price'):\n",
    "        final = get_price(section.find('span', 'final-price'))\n",
    "        list_of_final_prices.append(final) \n",
    "    else:\n",
    "        list_of_final_prices.append(0)\n",
    "        if section.find('span', 'price-regular'):\n",
    "            regular = get_price(section.find('span', 'price-regular'))\n",
    "            list_of_regular_prices.append(regular) \n",
    "        else:\n",
    "            list_of_regular_prices.append(0)"
   ]
  },
  {
   "cell_type": "code",
   "execution_count": 28,
   "metadata": {},
   "outputs": [
    {
     "data": {
      "text/plain": [
       "[]"
      ]
     },
     "execution_count": 28,
     "metadata": {},
     "output_type": "execute_result"
    }
   ],
   "source": [
    "list_of_regular_prices"
   ]
  },
  {
   "cell_type": "code",
   "execution_count": 19,
   "metadata": {},
   "outputs": [],
   "source": [
    "images = soup.find_all('img', attrs={\"class\":\"product-image img-responsive\"})"
   ]
  },
  {
   "cell_type": "code",
   "execution_count": 21,
   "metadata": {},
   "outputs": [],
   "source": [
    "list_of_images = [] \n",
    "for image in images:\n",
    "    list_of_images.append(image[\"src\"].split(\"/\")[-1])"
   ]
  },
  {
   "cell_type": "code",
   "execution_count": 22,
   "metadata": {},
   "outputs": [
    {
     "data": {
      "text/plain": [
       "['77be41380a4012da709bf47ce20cfabd.jpg',\n",
       " '63e5a65478eceb43395e779b0808f5db.jpg',\n",
       " '61466c669c3449da7112d304b16f6c7b.jpg',\n",
       " '26473ab04e7d58a4240939a9b372b1e4.jpg',\n",
       " '79abffc8816f8b6eb38dd7be37630361.jpg']"
      ]
     },
     "execution_count": 22,
     "metadata": {},
     "output_type": "execute_result"
    }
   ],
   "source": [
    " list_of_images[0:5]"
   ]
  },
  {
   "cell_type": "code",
   "execution_count": 23,
   "metadata": {},
   "outputs": [],
   "source": [
    "import pandas as pd"
   ]
  },
  {
   "cell_type": "code",
   "execution_count": 29,
   "metadata": {},
   "outputs": [
    {
     "name": "stdout",
     "output_type": "stream",
     "text": [
      "48 48 48\n"
     ]
    }
   ],
   "source": [
    "#check numbers of products\n",
    "print(len(list_of_titles), len(list_of_final_prices), len(list_of_images))"
   ]
  },
  {
   "cell_type": "code",
   "execution_count": 33,
   "metadata": {},
   "outputs": [],
   "source": [
    "dictionary_books = {\"title\": list_of_titles,\n",
    "                    \"final_price\": list_of_final_prices,\n",
    "                    'image': list_of_images}"
   ]
  },
  {
   "cell_type": "code",
   "execution_count": 35,
   "metadata": {},
   "outputs": [
    {
     "data": {
      "text/html": [
       "<div>\n",
       "<style scoped>\n",
       "    .dataframe tbody tr th:only-of-type {\n",
       "        vertical-align: middle;\n",
       "    }\n",
       "\n",
       "    .dataframe tbody tr th {\n",
       "        vertical-align: top;\n",
       "    }\n",
       "\n",
       "    .dataframe thead th {\n",
       "        text-align: right;\n",
       "    }\n",
       "</style>\n",
       "<table border=\"1\" class=\"dataframe\">\n",
       "  <thead>\n",
       "    <tr style=\"text-align: right;\">\n",
       "      <th></th>\n",
       "      <th>title</th>\n",
       "      <th>final_price</th>\n",
       "      <th>image</th>\n",
       "    </tr>\n",
       "  </thead>\n",
       "  <tbody>\n",
       "    <tr>\n",
       "      <td>0</td>\n",
       "      <td>Combo Sách Kỹ Năng: Đắc Nhân Tâm + Đọc Vị...</td>\n",
       "      <td>270500.0</td>\n",
       "      <td>77be41380a4012da709bf47ce20cfabd.jpg</td>\n",
       "    </tr>\n",
       "    <tr>\n",
       "      <td>1</td>\n",
       "      <td>Combo Cẩm Nang Học Tiếng Hàn Bán Chạy: Tiếng...</td>\n",
       "      <td>158400.0</td>\n",
       "      <td>63e5a65478eceb43395e779b0808f5db.jpg</td>\n",
       "    </tr>\n",
       "    <tr>\n",
       "      <td>2</td>\n",
       "      <td>Combo 2 Cuốn Sách Tư Duy - Kỹ Năng Sống Hay:...</td>\n",
       "      <td>117500.0</td>\n",
       "      <td>61466c669c3449da7112d304b16f6c7b.jpg</td>\n",
       "    </tr>\n",
       "    <tr>\n",
       "      <td>3</td>\n",
       "      <td>Sách Kỹ Năng Sống Bán Chạy: Nóng Giận Là Bản...</td>\n",
       "      <td>77000.0</td>\n",
       "      <td>26473ab04e7d58a4240939a9b372b1e4.jpg</td>\n",
       "    </tr>\n",
       "    <tr>\n",
       "      <td>4</td>\n",
       "      <td>Bộ máy tính để bàn nâng cấp chip intel...</td>\n",
       "      <td>4450000.0</td>\n",
       "      <td>79abffc8816f8b6eb38dd7be37630361.jpg</td>\n",
       "    </tr>\n",
       "  </tbody>\n",
       "</table>\n",
       "</div>"
      ],
      "text/plain": [
       "                                             title  final_price  \\\n",
       "0     Combo Sách Kỹ Năng: Đắc Nhân Tâm + Đọc Vị...     270500.0   \n",
       "1  Combo Cẩm Nang Học Tiếng Hàn Bán Chạy: Tiếng...     158400.0   \n",
       "2  Combo 2 Cuốn Sách Tư Duy - Kỹ Năng Sống Hay:...     117500.0   \n",
       "3  Sách Kỹ Năng Sống Bán Chạy: Nóng Giận Là Bản...      77000.0   \n",
       "4        Bộ máy tính để bàn nâng cấp chip intel...    4450000.0   \n",
       "\n",
       "                                  image  \n",
       "0  77be41380a4012da709bf47ce20cfabd.jpg  \n",
       "1  63e5a65478eceb43395e779b0808f5db.jpg  \n",
       "2  61466c669c3449da7112d304b16f6c7b.jpg  \n",
       "3  26473ab04e7d58a4240939a9b372b1e4.jpg  \n",
       "4  79abffc8816f8b6eb38dd7be37630361.jpg  "
      ]
     },
     "execution_count": 35,
     "metadata": {},
     "output_type": "execute_result"
    }
   ],
   "source": [
    "df = pd.DataFrame(dictionary_books)\n",
    "df[:5]"
   ]
  },
  {
   "cell_type": "code",
   "execution_count": 27,
   "metadata": {},
   "outputs": [],
   "source": [
    "#df.to_csv(\"books.csv\")"
   ]
  }
 ],
 "metadata": {
  "kernelspec": {
   "display_name": "Python 3",
   "language": "python",
   "name": "python3"
  },
  "language_info": {
   "codemirror_mode": {
    "name": "ipython",
    "version": 3
   },
   "file_extension": ".py",
   "mimetype": "text/x-python",
   "name": "python",
   "nbconvert_exporter": "python",
   "pygments_lexer": "ipython3",
   "version": "3.7.4"
  }
 },
 "nbformat": 4,
 "nbformat_minor": 2
}
