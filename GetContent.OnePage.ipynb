{
 "cells": [
  {
   "cell_type": "code",
   "execution_count": 1,
   "metadata": {},
   "outputs": [],
   "source": [
    "from bs4 import BeautifulSoup\n",
    "import requests"
   ]
  },
  {
   "cell_type": "code",
   "execution_count": 2,
   "metadata": {},
   "outputs": [],
   "source": [
    "page_link = 'http://phuong13021982.pythonanywhere.com/'"
   ]
  },
  {
   "cell_type": "code",
   "execution_count": 3,
   "metadata": {},
   "outputs": [],
   "source": [
    "page_response = requests.get(page_link)"
   ]
  },
  {
   "cell_type": "code",
   "execution_count": 4,
   "metadata": {},
   "outputs": [],
   "source": [
    "page_content = BeautifulSoup(page_response.content, \"html.parser\")"
   ]
  },
  {
   "cell_type": "code",
   "execution_count": 5,
   "metadata": {},
   "outputs": [],
   "source": [
    "product_names = page_content.find_all('h4',{\"class\":\"card-title\"})"
   ]
  },
  {
   "cell_type": "code",
   "execution_count": 6,
   "metadata": {},
   "outputs": [
    {
     "data": {
      "text/plain": [
       "[<h4 class=\"card-title\">Asanzo 50 inch</h4>,\n",
       " <h4 class=\"card-title\">Dell Vostro V3568 XF6C61</h4>,\n",
       " <h4 class=\"card-title\">Macbook Air 2017 MQD32</h4>,\n",
       " <h4 class=\"card-title\">Panasonic 40 inch</h4>,\n",
       " <h4 class=\"card-title\">Samsung 32 inch</h4>]"
      ]
     },
     "execution_count": 6,
     "metadata": {},
     "output_type": "execute_result"
    }
   ],
   "source": [
    "product_names[:5]"
   ]
  },
  {
   "cell_type": "code",
   "execution_count": 7,
   "metadata": {},
   "outputs": [],
   "source": [
    "product_names_ = page_content.find('h4',{\"class\":\"card-title\"}).text"
   ]
  },
  {
   "cell_type": "code",
   "execution_count": 8,
   "metadata": {},
   "outputs": [
    {
     "data": {
      "text/plain": [
       "['Asanzo 50 inch',\n",
       " 'Dell Vostro V3568 XF6C61',\n",
       " 'Macbook Air 2017 MQD32',\n",
       " 'Panasonic 40 inch',\n",
       " 'Samsung 32 inch',\n",
       " 'Samsung Galaxy J2 Prime',\n",
       " 'Sharp 45 inch',\n",
       " 'Sony 48 inch',\n",
       " 'Sony 55 inch',\n",
       " 'TCL 55 inch',\n",
       " 'Toshiba 32 inch',\n",
       " 'iPad WiFi 32GB New 2018']"
      ]
     },
     "execution_count": 8,
     "metadata": {},
     "output_type": "execute_result"
    }
   ],
   "source": [
    "list_of_names = []\n",
    "for product in product_names:\n",
    "    list_of_names.append(product.text)\n",
    "list_of_names"
   ]
  },
  {
   "cell_type": "code",
   "execution_count": 9,
   "metadata": {},
   "outputs": [],
   "source": [
    "product_images = page_content.find_all('img',{\"class\":\"card-img-top\"})"
   ]
  },
  {
   "cell_type": "code",
   "execution_count": 10,
   "metadata": {},
   "outputs": [
    {
     "data": {
      "text/plain": [
       "[<img alt=\"Asanzo 50 inch\" class=\"card-img-top\" src=\"/media/images/asanzo_4k_50_11690000.jpg\"/>,\n",
       " <img alt=\"Dell Vostro V3568 XF6C61\" class=\"card-img-top\" src=\"/media/images/Dell_vostro.jpg\"/>,\n",
       " <img alt=\"Macbook Air 2017 MQD32\" class=\"card-img-top\" src=\"/media/images/MacbooAir.jpg\"/>,\n",
       " <img alt=\"Panasonic 40 inch\" class=\"card-img-top\" src=\"/media/images/panansonic_40_6590000.jpg\"/>,\n",
       " <img alt=\"Samsung 32 inch\" class=\"card-img-top\" src=\"/media/images/samsung_32_5990000.jpg\"/>,\n",
       " <img alt=\"Samsung Galaxy J2 Prime\" class=\"card-img-top\" src=\"/media/images/SamsungPrime.jpg\"/>,\n",
       " <img alt=\"Sharp 45 inch\" class=\"card-img-top\" src=\"/media/images/sharp_45_7490000.jpg\"/>,\n",
       " <img alt=\"Sony 48 inch\" class=\"card-img-top\" src=\"/media/images/sony_48_11599000.png\"/>,\n",
       " <img alt=\"Sony 55 inch\" class=\"card-img-top\" src=\"/media/images/sony_55_20590000.jpg\"/>,\n",
       " <img alt=\"TCL 55 inch\" class=\"card-img-top\" src=\"/media/images/tcl_55_9900000.jpg\"/>,\n",
       " <img alt=\"Toshiba 32 inch\" class=\"card-img-top\" src=\"/media/images/toshiba32_4590000.jpg\"/>,\n",
       " <img alt=\"iPad WiFi 32GB New 2018\" class=\"card-img-top\" src=\"/media/images/iPad_Samsung_Wifi.jpg\"/>]"
      ]
     },
     "execution_count": 10,
     "metadata": {},
     "output_type": "execute_result"
    }
   ],
   "source": [
    "product_images"
   ]
  },
  {
   "cell_type": "code",
   "execution_count": 11,
   "metadata": {},
   "outputs": [],
   "source": [
    "list_of_images = []\n",
    "for image in product_images:\n",
    "    list_of_images.append(image[\"src\"].split(\"/\")[-1])"
   ]
  },
  {
   "cell_type": "code",
   "execution_count": 12,
   "metadata": {},
   "outputs": [
    {
     "data": {
      "text/plain": [
       "['asanzo_4k_50_11690000.jpg',\n",
       " 'Dell_vostro.jpg',\n",
       " 'MacbooAir.jpg',\n",
       " 'panansonic_40_6590000.jpg',\n",
       " 'samsung_32_5990000.jpg',\n",
       " 'SamsungPrime.jpg',\n",
       " 'sharp_45_7490000.jpg',\n",
       " 'sony_48_11599000.png',\n",
       " 'sony_55_20590000.jpg',\n",
       " 'tcl_55_9900000.jpg',\n",
       " 'toshiba32_4590000.jpg',\n",
       " 'iPad_Samsung_Wifi.jpg']"
      ]
     },
     "execution_count": 12,
     "metadata": {},
     "output_type": "execute_result"
    }
   ],
   "source": [
    "list_of_images"
   ]
  },
  {
   "cell_type": "code",
   "execution_count": 13,
   "metadata": {},
   "outputs": [],
   "source": [
    "product_details = page_content.find_all('p',{\"class\":\"card-text\"})"
   ]
  },
  {
   "cell_type": "code",
   "execution_count": 17,
   "metadata": {},
   "outputs": [],
   "source": [
    "list_of_descriptions = []\n",
    "list_of_prices = []\n",
    "for detail in product_details:\n",
    "    comp = detail.get_text(separator=\"\\n\")\n",
    "    comp = comp.split(\"\\n\")\n",
    "    price = comp[1].split(\" vnđ\")\n",
    "    list_of_descriptions.append(comp[0])\n",
    "    list_of_prices.append(float(price[0].replace(\",\",\"\")))"
   ]
  },
  {
   "cell_type": "code",
   "execution_count": 18,
   "metadata": {},
   "outputs": [
    {
     "data": {
      "text/plain": [
       "['Tivi Asanzo 4K màn  hình phẳng 50 inch',\n",
       " 'Chip: Intel Core i5-7200U, RAM: DDR4 4GB (2 khe cắm)',\n",
       " 'Intel Core i5 Dual-core 1.8 GHz, 8GB 1600 MHz LPDDR3',\n",
       " 'Tivi Panasonic màn hình phẳng 40 inch',\n",
       " 'Tivi Samsung thế hệ mới 32 inch',\n",
       " 'Chính hãng, Nguyên seal, Mới 100%, Chưa Active',\n",
       " 'Tivi Shrap màn hình cong siêu mỏng',\n",
       " 'Tivi Sony LCD màn hình phẳng 48 inch',\n",
       " 'Tivi Sony LED màn hình phẳng 55 inch',\n",
       " 'Tivi TCL Smart màn hình cong 55 inch',\n",
       " 'Tivi LCD Toshiba 32 inch màn hình phẳng',\n",
       " 'Nhôm nguyên khối, Retina 9.7 inch']"
      ]
     },
     "execution_count": 18,
     "metadata": {},
     "output_type": "execute_result"
    }
   ],
   "source": [
    "list_of_descriptions"
   ]
  },
  {
   "cell_type": "code",
   "execution_count": 19,
   "metadata": {},
   "outputs": [
    {
     "data": {
      "text/plain": [
       "[9000000.0,\n",
       " 11999000.0,\n",
       " 18990000.0,\n",
       " 6590000.0,\n",
       " 5999000.0,\n",
       " 2690000.0,\n",
       " 7490000.0,\n",
       " 11599000.0,\n",
       " 20590000.0,\n",
       " 9900000.0,\n",
       " 4590000.0,\n",
       " 8390000.0]"
      ]
     },
     "execution_count": 19,
     "metadata": {},
     "output_type": "execute_result"
    }
   ],
   "source": [
    "list_of_prices"
   ]
  },
  {
   "cell_type": "code",
   "execution_count": 21,
   "metadata": {},
   "outputs": [
    {
     "name": "stdout",
     "output_type": "stream",
     "text": [
      "12 12 12 12\n"
     ]
    }
   ],
   "source": [
    "#check numbers of products\n",
    "print(len(list_of_names), len(list_of_images), len(list_of_descriptions), len(list_of_prices))"
   ]
  },
  {
   "cell_type": "code",
   "execution_count": 22,
   "metadata": {},
   "outputs": [],
   "source": [
    "import pandas as pd"
   ]
  },
  {
   "cell_type": "code",
   "execution_count": 26,
   "metadata": {},
   "outputs": [
    {
     "data": {
      "text/html": [
       "<div>\n",
       "<style scoped>\n",
       "    .dataframe tbody tr th:only-of-type {\n",
       "        vertical-align: middle;\n",
       "    }\n",
       "\n",
       "    .dataframe tbody tr th {\n",
       "        vertical-align: top;\n",
       "    }\n",
       "\n",
       "    .dataframe thead th {\n",
       "        text-align: right;\n",
       "    }\n",
       "</style>\n",
       "<table border=\"1\" class=\"dataframe\">\n",
       "  <thead>\n",
       "    <tr style=\"text-align: right;\">\n",
       "      <th></th>\n",
       "      <th>name</th>\n",
       "      <th>image</th>\n",
       "      <th>description</th>\n",
       "      <th>price</th>\n",
       "    </tr>\n",
       "  </thead>\n",
       "  <tbody>\n",
       "    <tr>\n",
       "      <td>0</td>\n",
       "      <td>Asanzo 50 inch</td>\n",
       "      <td>asanzo_4k_50_11690000.jpg</td>\n",
       "      <td>Tivi Asanzo 4K màn  hình phẳng 50 inch</td>\n",
       "      <td>9000000.0</td>\n",
       "    </tr>\n",
       "    <tr>\n",
       "      <td>1</td>\n",
       "      <td>Dell Vostro V3568 XF6C61</td>\n",
       "      <td>Dell_vostro.jpg</td>\n",
       "      <td>Chip: Intel Core i5-7200U, RAM: DDR4 4GB (2 kh...</td>\n",
       "      <td>11999000.0</td>\n",
       "    </tr>\n",
       "    <tr>\n",
       "      <td>2</td>\n",
       "      <td>Macbook Air 2017 MQD32</td>\n",
       "      <td>MacbooAir.jpg</td>\n",
       "      <td>Intel Core i5 Dual-core 1.8 GHz, 8GB 1600 MHz ...</td>\n",
       "      <td>18990000.0</td>\n",
       "    </tr>\n",
       "    <tr>\n",
       "      <td>3</td>\n",
       "      <td>Panasonic 40 inch</td>\n",
       "      <td>panansonic_40_6590000.jpg</td>\n",
       "      <td>Tivi Panasonic màn hình phẳng 40 inch</td>\n",
       "      <td>6590000.0</td>\n",
       "    </tr>\n",
       "    <tr>\n",
       "      <td>4</td>\n",
       "      <td>Samsung 32 inch</td>\n",
       "      <td>samsung_32_5990000.jpg</td>\n",
       "      <td>Tivi Samsung thế hệ mới 32 inch</td>\n",
       "      <td>5999000.0</td>\n",
       "    </tr>\n",
       "  </tbody>\n",
       "</table>\n",
       "</div>"
      ],
      "text/plain": [
       "                       name                      image  \\\n",
       "0            Asanzo 50 inch  asanzo_4k_50_11690000.jpg   \n",
       "1  Dell Vostro V3568 XF6C61            Dell_vostro.jpg   \n",
       "2    Macbook Air 2017 MQD32              MacbooAir.jpg   \n",
       "3         Panasonic 40 inch  panansonic_40_6590000.jpg   \n",
       "4           Samsung 32 inch     samsung_32_5990000.jpg   \n",
       "\n",
       "                                         description       price  \n",
       "0             Tivi Asanzo 4K màn  hình phẳng 50 inch   9000000.0  \n",
       "1  Chip: Intel Core i5-7200U, RAM: DDR4 4GB (2 kh...  11999000.0  \n",
       "2  Intel Core i5 Dual-core 1.8 GHz, 8GB 1600 MHz ...  18990000.0  \n",
       "3              Tivi Panasonic màn hình phẳng 40 inch   6590000.0  \n",
       "4                    Tivi Samsung thế hệ mới 32 inch   5999000.0  "
      ]
     },
     "execution_count": 26,
     "metadata": {},
     "output_type": "execute_result"
    }
   ],
   "source": [
    "df = pd.DataFrame({\"name\":list_of_names,\n",
    "                  \"image\":list_of_images,\n",
    "                  \"description\":list_of_descriptions,\n",
    "                  \"price\":list_of_prices})\n",
    "df.head()"
   ]
  },
  {
   "cell_type": "code",
   "execution_count": 27,
   "metadata": {},
   "outputs": [],
   "source": [
    "#df.to_csv(\"product.csv\")"
   ]
  },
  {
   "cell_type": "code",
   "execution_count": 35,
   "metadata": {},
   "outputs": [],
   "source": [
    "new_df = pd.read_csv(\"product.csv\", index_col=0)"
   ]
  },
  {
   "cell_type": "code",
   "execution_count": 36,
   "metadata": {},
   "outputs": [
    {
     "data": {
      "text/html": [
       "<div>\n",
       "<style scoped>\n",
       "    .dataframe tbody tr th:only-of-type {\n",
       "        vertical-align: middle;\n",
       "    }\n",
       "\n",
       "    .dataframe tbody tr th {\n",
       "        vertical-align: top;\n",
       "    }\n",
       "\n",
       "    .dataframe thead th {\n",
       "        text-align: right;\n",
       "    }\n",
       "</style>\n",
       "<table border=\"1\" class=\"dataframe\">\n",
       "  <thead>\n",
       "    <tr style=\"text-align: right;\">\n",
       "      <th></th>\n",
       "      <th>name</th>\n",
       "      <th>image</th>\n",
       "      <th>description</th>\n",
       "      <th>price</th>\n",
       "    </tr>\n",
       "  </thead>\n",
       "  <tbody>\n",
       "    <tr>\n",
       "      <td>0</td>\n",
       "      <td>Asanzo 50 inch</td>\n",
       "      <td>asanzo_4k_50_11690000.jpg</td>\n",
       "      <td>Tivi Asanzo 4K màn  hình phẳng 50 inch</td>\n",
       "      <td>9000000.0</td>\n",
       "    </tr>\n",
       "    <tr>\n",
       "      <td>1</td>\n",
       "      <td>Dell Vostro V3568 XF6C61</td>\n",
       "      <td>Dell_vostro.jpg</td>\n",
       "      <td>Chip: Intel Core i5-7200U, RAM: DDR4 4GB (2 kh...</td>\n",
       "      <td>11999000.0</td>\n",
       "    </tr>\n",
       "    <tr>\n",
       "      <td>2</td>\n",
       "      <td>Macbook Air 2017 MQD32</td>\n",
       "      <td>MacbooAir.jpg</td>\n",
       "      <td>Intel Core i5 Dual-core 1.8 GHz, 8GB 1600 MHz ...</td>\n",
       "      <td>18990000.0</td>\n",
       "    </tr>\n",
       "    <tr>\n",
       "      <td>3</td>\n",
       "      <td>Panasonic 40 inch</td>\n",
       "      <td>panansonic_40_6590000.jpg</td>\n",
       "      <td>Tivi Panasonic màn hình phẳng 40 inch</td>\n",
       "      <td>6590000.0</td>\n",
       "    </tr>\n",
       "    <tr>\n",
       "      <td>4</td>\n",
       "      <td>Samsung 32 inch</td>\n",
       "      <td>samsung_32_5990000.jpg</td>\n",
       "      <td>Tivi Samsung thế hệ mới 32 inch</td>\n",
       "      <td>5999000.0</td>\n",
       "    </tr>\n",
       "    <tr>\n",
       "      <td>5</td>\n",
       "      <td>Samsung Galaxy J2 Prime</td>\n",
       "      <td>SamsungPrime.jpg</td>\n",
       "      <td>Chính hãng, Nguyên seal, Mới 100%, Chưa Active</td>\n",
       "      <td>2690000.0</td>\n",
       "    </tr>\n",
       "    <tr>\n",
       "      <td>6</td>\n",
       "      <td>Sharp 45 inch</td>\n",
       "      <td>sharp_45_7490000.jpg</td>\n",
       "      <td>Tivi Shrap màn hình cong siêu mỏng</td>\n",
       "      <td>7490000.0</td>\n",
       "    </tr>\n",
       "    <tr>\n",
       "      <td>7</td>\n",
       "      <td>Sony 48 inch</td>\n",
       "      <td>sony_48_11599000.png</td>\n",
       "      <td>Tivi Sony LCD màn hình phẳng 48 inch</td>\n",
       "      <td>11599000.0</td>\n",
       "    </tr>\n",
       "    <tr>\n",
       "      <td>8</td>\n",
       "      <td>Sony 55 inch</td>\n",
       "      <td>sony_55_20590000.jpg</td>\n",
       "      <td>Tivi Sony LED màn hình phẳng 55 inch</td>\n",
       "      <td>20590000.0</td>\n",
       "    </tr>\n",
       "    <tr>\n",
       "      <td>9</td>\n",
       "      <td>TCL 55 inch</td>\n",
       "      <td>tcl_55_9900000.jpg</td>\n",
       "      <td>Tivi TCL Smart màn hình cong 55 inch</td>\n",
       "      <td>9900000.0</td>\n",
       "    </tr>\n",
       "    <tr>\n",
       "      <td>10</td>\n",
       "      <td>Toshiba 32 inch</td>\n",
       "      <td>toshiba32_4590000.jpg</td>\n",
       "      <td>Tivi LCD Toshiba 32 inch màn hình phẳng</td>\n",
       "      <td>4590000.0</td>\n",
       "    </tr>\n",
       "    <tr>\n",
       "      <td>11</td>\n",
       "      <td>iPad WiFi 32GB New 2018</td>\n",
       "      <td>iPad_Samsung_Wifi.jpg</td>\n",
       "      <td>Nhôm nguyên khối, Retina 9.7 inch</td>\n",
       "      <td>8390000.0</td>\n",
       "    </tr>\n",
       "  </tbody>\n",
       "</table>\n",
       "</div>"
      ],
      "text/plain": [
       "                        name                      image  \\\n",
       "0             Asanzo 50 inch  asanzo_4k_50_11690000.jpg   \n",
       "1   Dell Vostro V3568 XF6C61            Dell_vostro.jpg   \n",
       "2     Macbook Air 2017 MQD32              MacbooAir.jpg   \n",
       "3          Panasonic 40 inch  panansonic_40_6590000.jpg   \n",
       "4            Samsung 32 inch     samsung_32_5990000.jpg   \n",
       "5    Samsung Galaxy J2 Prime           SamsungPrime.jpg   \n",
       "6              Sharp 45 inch       sharp_45_7490000.jpg   \n",
       "7               Sony 48 inch       sony_48_11599000.png   \n",
       "8               Sony 55 inch       sony_55_20590000.jpg   \n",
       "9                TCL 55 inch         tcl_55_9900000.jpg   \n",
       "10           Toshiba 32 inch      toshiba32_4590000.jpg   \n",
       "11   iPad WiFi 32GB New 2018      iPad_Samsung_Wifi.jpg   \n",
       "\n",
       "                                          description       price  \n",
       "0              Tivi Asanzo 4K màn  hình phẳng 50 inch   9000000.0  \n",
       "1   Chip: Intel Core i5-7200U, RAM: DDR4 4GB (2 kh...  11999000.0  \n",
       "2   Intel Core i5 Dual-core 1.8 GHz, 8GB 1600 MHz ...  18990000.0  \n",
       "3               Tivi Panasonic màn hình phẳng 40 inch   6590000.0  \n",
       "4                     Tivi Samsung thế hệ mới 32 inch   5999000.0  \n",
       "5      Chính hãng, Nguyên seal, Mới 100%, Chưa Active   2690000.0  \n",
       "6                  Tivi Shrap màn hình cong siêu mỏng   7490000.0  \n",
       "7                Tivi Sony LCD màn hình phẳng 48 inch  11599000.0  \n",
       "8                Tivi Sony LED màn hình phẳng 55 inch  20590000.0  \n",
       "9                Tivi TCL Smart màn hình cong 55 inch   9900000.0  \n",
       "10            Tivi LCD Toshiba 32 inch màn hình phẳng   4590000.0  \n",
       "11                  Nhôm nguyên khối, Retina 9.7 inch   8390000.0  "
      ]
     },
     "execution_count": 36,
     "metadata": {},
     "output_type": "execute_result"
    }
   ],
   "source": [
    "new_df"
   ]
  },
  {
   "cell_type": "code",
   "execution_count": null,
   "metadata": {},
   "outputs": [],
   "source": []
  }
 ],
 "metadata": {
  "kernelspec": {
   "display_name": "Python 3",
   "language": "python",
   "name": "python3"
  },
  "language_info": {
   "codemirror_mode": {
    "name": "ipython",
    "version": 3
   },
   "file_extension": ".py",
   "mimetype": "text/x-python",
   "name": "python",
   "nbconvert_exporter": "python",
   "pygments_lexer": "ipython3",
   "version": "3.7.4"
  }
 },
 "nbformat": 4,
 "nbformat_minor": 2
}
