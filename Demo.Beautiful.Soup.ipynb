{
 "cells": [
  {
   "cell_type": "code",
   "execution_count": 1,
   "metadata": {},
   "outputs": [],
   "source": [
    "from bs4 import BeautifulSoup\n",
    "import requests"
   ]
  },
  {
   "cell_type": "code",
   "execution_count": 2,
   "metadata": {},
   "outputs": [],
   "source": [
    "content = '''<html>\n",
    "<head><title>Data Science Certificate</title></head>\n",
    "<body>\n",
    "    <p class=\"title\"><b>List of courses </b></p>\n",
    "    <p class=\"course\">There were 8 courses:\n",
    "    <a href=\"https://csc.edu.vn/lap-trinh-va-csdl/Fundamentals-of-Python-Lap-trinh-Python-co-ban_189\" class=\"sub_course\" id=\"link1\">Fundamentals of Python </a>,\n",
    "    <a href=\"https://csc.edu.vn/lap-trinh-va-csdl/Python-for-Machine-Learning-Data-Science--Data-Visualization-Python-cho-may-hoc-Khoa-hoc-du-lieu-va-Truc-quan-hoa-du-lieu_191\" class=\"sub_course\" id=\"link2\">Python for ML, DS, DV </a> and\n",
    "    <a href=\"https://csc.edu.vn/lap-trinh-va-csdl/Mathematics-and-Statistics-for-Data-Science_194\" class=\"sub_course\" id=\"link3\">Mathematics and Statistics for DS </a>;\n",
    "    and ... </p>\n",
    "    <div class=\"info\" \"name\"=\"Read more\">Read more... </div>\n",
    "    \n",
    "</body>\n",
    "</html>\n",
    "'''"
   ]
  },
  {
   "cell_type": "code",
   "execution_count": 3,
   "metadata": {},
   "outputs": [],
   "source": [
    "page_content = BeautifulSoup(content, \"html.parser\")"
   ]
  },
  {
   "cell_type": "code",
   "execution_count": 4,
   "metadata": {},
   "outputs": [
    {
     "data": {
      "text/plain": [
       "<html>\n",
       "<head><title>Data Science Certificate</title></head>\n",
       "<body>\n",
       "<p class=\"title\"><b>List of courses </b></p>\n",
       "<p class=\"course\">There were 8 courses:\n",
       "    <a class=\"sub_course\" href=\"https://csc.edu.vn/lap-trinh-va-csdl/Fundamentals-of-Python-Lap-trinh-Python-co-ban_189\" id=\"link1\">Fundamentals of Python </a>,\n",
       "    <a class=\"sub_course\" href=\"https://csc.edu.vn/lap-trinh-va-csdl/Python-for-Machine-Learning-Data-Science--Data-Visualization-Python-cho-may-hoc-Khoa-hoc-du-lieu-va-Truc-quan-hoa-du-lieu_191\" id=\"link2\">Python for ML, DS, DV </a> and\n",
       "    <a class=\"sub_course\" href=\"https://csc.edu.vn/lap-trinh-va-csdl/Mathematics-and-Statistics-for-Data-Science_194\" id=\"link3\">Mathematics and Statistics for DS </a>;\n",
       "    and ... </p>\n",
       "<div \"name\"=\"Read more\" class=\"info\">Read more... </div>\n",
       "</body>\n",
       "</html>"
      ]
     },
     "execution_count": 4,
     "metadata": {},
     "output_type": "execute_result"
    }
   ],
   "source": [
    "page_content"
   ]
  },
  {
   "cell_type": "code",
   "execution_count": 5,
   "metadata": {},
   "outputs": [
    {
     "data": {
      "text/plain": [
       "<head><title>Data Science Certificate</title></head>"
      ]
     },
     "execution_count": 5,
     "metadata": {},
     "output_type": "execute_result"
    }
   ],
   "source": [
    "page_content.head"
   ]
  },
  {
   "cell_type": "code",
   "execution_count": 6,
   "metadata": {},
   "outputs": [
    {
     "data": {
      "text/plain": [
       "<body>\n",
       "<p class=\"title\"><b>List of courses </b></p>\n",
       "<p class=\"course\">There were 8 courses:\n",
       "    <a class=\"sub_course\" href=\"https://csc.edu.vn/lap-trinh-va-csdl/Fundamentals-of-Python-Lap-trinh-Python-co-ban_189\" id=\"link1\">Fundamentals of Python </a>,\n",
       "    <a class=\"sub_course\" href=\"https://csc.edu.vn/lap-trinh-va-csdl/Python-for-Machine-Learning-Data-Science--Data-Visualization-Python-cho-may-hoc-Khoa-hoc-du-lieu-va-Truc-quan-hoa-du-lieu_191\" id=\"link2\">Python for ML, DS, DV </a> and\n",
       "    <a class=\"sub_course\" href=\"https://csc.edu.vn/lap-trinh-va-csdl/Mathematics-and-Statistics-for-Data-Science_194\" id=\"link3\">Mathematics and Statistics for DS </a>;\n",
       "    and ... </p>\n",
       "<div \"name\"=\"Read more\" class=\"info\">Read more... </div>\n",
       "</body>"
      ]
     },
     "execution_count": 6,
     "metadata": {},
     "output_type": "execute_result"
    }
   ],
   "source": [
    "page_content.body"
   ]
  },
  {
   "cell_type": "code",
   "execution_count": 7,
   "metadata": {},
   "outputs": [
    {
     "data": {
      "text/plain": [
       "<a class=\"sub_course\" href=\"https://csc.edu.vn/lap-trinh-va-csdl/Fundamentals-of-Python-Lap-trinh-Python-co-ban_189\" id=\"link1\">Fundamentals of Python </a>"
      ]
     },
     "execution_count": 7,
     "metadata": {},
     "output_type": "execute_result"
    }
   ],
   "source": [
    "page_content.a"
   ]
  },
  {
   "cell_type": "code",
   "execution_count": 8,
   "metadata": {},
   "outputs": [
    {
     "data": {
      "text/plain": [
       "<div \"name\"=\"Read more\" class=\"info\">Read more... </div>"
      ]
     },
     "execution_count": 8,
     "metadata": {},
     "output_type": "execute_result"
    }
   ],
   "source": [
    "page_content.div"
   ]
  },
  {
   "cell_type": "code",
   "execution_count": 9,
   "metadata": {},
   "outputs": [
    {
     "data": {
      "text/plain": [
       "<title>Data Science Certificate</title>"
      ]
     },
     "execution_count": 9,
     "metadata": {},
     "output_type": "execute_result"
    }
   ],
   "source": [
    "page_content.title"
   ]
  },
  {
   "cell_type": "code",
   "execution_count": 10,
   "metadata": {},
   "outputs": [
    {
     "data": {
      "text/plain": [
       "<p class=\"title\"><b>List of courses </b></p>"
      ]
     },
     "execution_count": 10,
     "metadata": {},
     "output_type": "execute_result"
    }
   ],
   "source": [
    "page_content.p"
   ]
  },
  {
   "cell_type": "code",
   "execution_count": 11,
   "metadata": {},
   "outputs": [
    {
     "data": {
      "text/plain": [
       "'Data Science Certificate'"
      ]
     },
     "execution_count": 11,
     "metadata": {},
     "output_type": "execute_result"
    }
   ],
   "source": [
    "page_content.title.text"
   ]
  },
  {
   "cell_type": "code",
   "execution_count": 12,
   "metadata": {},
   "outputs": [],
   "source": [
    "links = page_content.find_all('a')"
   ]
  },
  {
   "cell_type": "code",
   "execution_count": 13,
   "metadata": {},
   "outputs": [
    {
     "data": {
      "text/plain": [
       "[<a class=\"sub_course\" href=\"https://csc.edu.vn/lap-trinh-va-csdl/Fundamentals-of-Python-Lap-trinh-Python-co-ban_189\" id=\"link1\">Fundamentals of Python </a>,\n",
       " <a class=\"sub_course\" href=\"https://csc.edu.vn/lap-trinh-va-csdl/Python-for-Machine-Learning-Data-Science--Data-Visualization-Python-cho-may-hoc-Khoa-hoc-du-lieu-va-Truc-quan-hoa-du-lieu_191\" id=\"link2\">Python for ML, DS, DV </a>,\n",
       " <a class=\"sub_course\" href=\"https://csc.edu.vn/lap-trinh-va-csdl/Mathematics-and-Statistics-for-Data-Science_194\" id=\"link3\">Mathematics and Statistics for DS </a>]"
      ]
     },
     "execution_count": 13,
     "metadata": {},
     "output_type": "execute_result"
    }
   ],
   "source": [
    "links"
   ]
  },
  {
   "cell_type": "code",
   "execution_count": 15,
   "metadata": {},
   "outputs": [
    {
     "name": "stdout",
     "output_type": "stream",
     "text": [
      "https://csc.edu.vn/lap-trinh-va-csdl/Fundamentals-of-Python-Lap-trinh-Python-co-ban_189\n",
      "https://csc.edu.vn/lap-trinh-va-csdl/Python-for-Machine-Learning-Data-Science--Data-Visualization-Python-cho-may-hoc-Khoa-hoc-du-lieu-va-Truc-quan-hoa-du-lieu_191\n",
      "https://csc.edu.vn/lap-trinh-va-csdl/Mathematics-and-Statistics-for-Data-Science_194\n"
     ]
    }
   ],
   "source": [
    "for link in links:\n",
    "    print(link[\"href\"])"
   ]
  },
  {
   "cell_type": "code",
   "execution_count": 16,
   "metadata": {},
   "outputs": [
    {
     "data": {
      "text/plain": [
       "'List of courses '"
      ]
     },
     "execution_count": 16,
     "metadata": {},
     "output_type": "execute_result"
    }
   ],
   "source": [
    "page_content.find('p', attrs={\"class\":\"title\"}).text"
   ]
  }
 ],
 "metadata": {
  "kernelspec": {
   "display_name": "Python 3",
   "language": "python",
   "name": "python3"
  },
  "language_info": {
   "codemirror_mode": {
    "name": "ipython",
    "version": 3
   },
   "file_extension": ".py",
   "mimetype": "text/x-python",
   "name": "python",
   "nbconvert_exporter": "python",
   "pygments_lexer": "ipython3",
   "version": "3.7.4"
  }
 },
 "nbformat": 4,
 "nbformat_minor": 2
}
