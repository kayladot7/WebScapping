{
 "cells": [
  {
   "cell_type": "code",
   "execution_count": 1,
   "metadata": {},
   "outputs": [],
   "source": [
    "from bs4 import BeautifulSoup\n",
    "import requests"
   ]
  },
  {
   "cell_type": "code",
   "execution_count": 9,
   "metadata": {},
   "outputs": [],
   "source": [
    "site = 'https://tiki.vn/search?q=b%C3%A1n%20ch%E1%BA%A1y&order=top_seller' \n",
    "response = requests.get(site)\n",
    "soup = BeautifulSoup(response.text, 'html.parser')"
   ]
  },
  {
   "cell_type": "code",
   "execution_count": 10,
   "metadata": {},
   "outputs": [
    {
     "data": {
      "text/plain": [
       "'https://salt.tikicdn.com/ts/upload/42/f9/5e/7ccf8b09de0e051cc9054bd535f7b1a1.png'"
      ]
     },
     "execution_count": 10,
     "metadata": {},
     "output_type": "execute_result"
    }
   ],
   "source": [
    "img_tags = soup.find_all('img') \n",
    "#img_tags\n",
    "img_tags[0]['src']"
   ]
  },
  {
   "cell_type": "code",
   "execution_count": 11,
   "metadata": {},
   "outputs": [
    {
     "data": {
      "text/plain": [
       "bs4.element.ResultSet"
      ]
     },
     "execution_count": 11,
     "metadata": {},
     "output_type": "execute_result"
    }
   ],
   "source": [
    "type(img_tags)"
   ]
  },
  {
   "cell_type": "code",
   "execution_count": 14,
   "metadata": {},
   "outputs": [
    {
     "data": {
      "text/plain": [
       "120"
      ]
     },
     "execution_count": 14,
     "metadata": {},
     "output_type": "execute_result"
    }
   ],
   "source": [
    "len(img_tags)"
   ]
  },
  {
   "cell_type": "code",
   "execution_count": 16,
   "metadata": {},
   "outputs": [
    {
     "data": {
      "text/plain": [
       "True"
      ]
     },
     "execution_count": 16,
     "metadata": {},
     "output_type": "execute_result"
    }
   ],
   "source": [
    "img_tags[0].has_attr('src')"
   ]
  },
  {
   "cell_type": "code",
   "execution_count": 13,
   "metadata": {},
   "outputs": [],
   "source": [
    "urls = []\n",
    "for i in range(len(img_tags)):\n",
    "    if img_tags[i].has_attr('src'):\n",
    "        urls.append(img_tags[i]['src'])"
   ]
  },
  {
   "cell_type": "code",
   "execution_count": 21,
   "metadata": {},
   "outputs": [],
   "source": [
    "import re"
   ]
  },
  {
   "cell_type": "code",
   "execution_count": 24,
   "metadata": {},
   "outputs": [
    {
     "name": "stdout",
     "output_type": "stream",
     "text": [
      "https://salt.tikicdn.com/ts/upload/42/f9/5e/7ccf8b09de0e051cc9054bd535f7b1a1.png\n",
      "https://salt.tikicdn.com/media/upload/2019/01/30/1f41899d3b37d9aa3197b8839f6916fe.png\n",
      "https://tiki.vn/assets/img/svg/zaloicon.svg\n",
      "https://salt.tikicdn.com/assets/img/new-icon-red.png\n",
      "https://salt.tikicdn.com/assets/img/empty-lazy.gif\n",
      "https://salt.tikicdn.com/assets/img/empty-lazy.gif\n",
      "https://salt.tikicdn.com/assets/img/empty-lazy.gif\n",
      "https://salt.tikicdn.com/assets/img/empty-lazy.gif\n",
      "https://salt.tikicdn.com/assets/img/empty-lazy.gif\n",
      "https://salt.tikicdn.com/assets/img/empty-lazy.gif\n",
      "https://salt.tikicdn.com/assets/img/empty-lazy.gif\n",
      "https://salt.tikicdn.com/assets/img/empty-lazy.gif\n",
      "https://salt.tikicdn.com/assets/img/empty-lazy.gif\n",
      "https://salt.tikicdn.com/assets/img/empty-lazy.gif\n",
      "https://salt.tikicdn.com/assets/img/empty-lazy.gif\n",
      "https://salt.tikicdn.com/assets/img/empty-lazy.gif\n",
      "https://salt.tikicdn.com/assets/img/empty-lazy.gif\n",
      "https://salt.tikicdn.com/assets/img/empty-lazy.gif\n",
      "https://salt.tikicdn.com/assets/img/empty-lazy.gif\n",
      "https://pipe.tikicdn.com/media/upload/2018/10/12/2a3acb91a35d45e1b4b7c96912a0c84a.png\n",
      "https://pipe.tikicdn.com/media/upload/2018/10/12/2a3acb91a35d45e1b4b7c96912a0c84a.png\n",
      "\n",
      "https://salt.tikicdn.com/cache/280x280/ts/product/a5/37/16/77be41380a4012da709bf47ce20cfabd.jpg\n",
      "https://salt.tikicdn.com/ts/upload/9f/32/dd/8a8d39d4453399569dfb3e80fe01de75.png\n",
      "https://salt.tikicdn.com/cache/280x280/ts/product/73/a9/f2/63e5a65478eceb43395e779b0808f5db.jpg\n",
      "https://salt.tikicdn.com/ts/upload/9f/32/dd/8a8d39d4453399569dfb3e80fe01de75.png\n",
      "https://salt.tikicdn.com/cache/280x280/ts/product/46/4d/22/61466c669c3449da7112d304b16f6c7b.jpg\n",
      "https://salt.tikicdn.com/ts/upload/9f/32/dd/8a8d39d4453399569dfb3e80fe01de75.png\n",
      "https://salt.tikicdn.com/cache/280x280/ts/product/87/a6/01/26473ab04e7d58a4240939a9b372b1e4.jpg\n",
      "https://salt.tikicdn.com/ts/upload/9f/32/dd/8a8d39d4453399569dfb3e80fe01de75.png\n",
      "https://salt.tikicdn.com/cache/280x280/ts/product/75/f8/bc/79abffc8816f8b6eb38dd7be37630361.jpg\n",
      "https://salt.tikicdn.com/ts/upload/f3/74/46/f4c52053d220e94a047410420eaf9faf.png\n",
      "https://salt.tikicdn.com/ts/upload/9f/32/dd/8a8d39d4453399569dfb3e80fe01de75.png\n",
      "https://salt.tikicdn.com/cache/280x280/ts/product/ac/92/49/3384968eac3888e307a84118b424c1d4.jpg\n",
      "https://salt.tikicdn.com/ts/upload/9f/32/dd/8a8d39d4453399569dfb3e80fe01de75.png\n",
      "https://salt.tikicdn.com/cache/280x280/ts/product/a1/6d/e7/520012242ee24bb1c4fa79b8be9b7214.jpg\n",
      "https://salt.tikicdn.com/ts/upload/9f/32/dd/8a8d39d4453399569dfb3e80fe01de75.png\n",
      "https://salt.tikicdn.com/cache/280x280/ts/product/66/c5/42/544bc270a9a7d5c10a75345494e06033.jpg\n",
      "https://salt.tikicdn.com/ts/upload/9f/32/dd/8a8d39d4453399569dfb3e80fe01de75.png\n",
      "https://salt.tikicdn.com/cache/280x280/ts/product/36/71/37/5c130376a42ba4b167a14e1a7c625670.jpg\n",
      "https://salt.tikicdn.com/ts/upload/9f/32/dd/8a8d39d4453399569dfb3e80fe01de75.png\n",
      "https://salt.tikicdn.com/cache/280x280/ts/product/54/7d/73/e98a28157310d43d4fc700905126a87d.jpg\n",
      "https://salt.tikicdn.com/ts/upload/9f/32/dd/8a8d39d4453399569dfb3e80fe01de75.png\n",
      "https://salt.tikicdn.com/cache/280x280/ts/product/5a/2c/cc/beaeb83301d9d839ea54c72b5e31264e.jpg\n",
      "https://salt.tikicdn.com/ts/upload/9f/32/dd/8a8d39d4453399569dfb3e80fe01de75.png\n",
      "https://salt.tikicdn.com/cache/280x280/ts/product/a5/60/1e/ebf849a2e43d1f24b971837f535eae6c.jpg\n",
      "https://salt.tikicdn.com/ts/upload/9f/32/dd/8a8d39d4453399569dfb3e80fe01de75.png\n",
      "https://salt.tikicdn.com/cache/280x280/ts/product/c1/a1/a3/cb5c7a148f7625b6a57427b2dc06fa1b.jpg\n",
      "https://salt.tikicdn.com/ts/upload/9f/32/dd/8a8d39d4453399569dfb3e80fe01de75.png\n",
      "https://salt.tikicdn.com/cache/280x280/ts/product/6c/c5/12/ce916c0a7ac7ca3dfcf8979cf5c799d5.jpg\n",
      "https://salt.tikicdn.com/ts/upload/9f/32/dd/8a8d39d4453399569dfb3e80fe01de75.png\n",
      "https://salt.tikicdn.com/cache/280x280/ts/product/e9/8b/ed/a614e9567b87b39e2c593aec767de980.jpg\n",
      "https://salt.tikicdn.com/ts/upload/9f/32/dd/8a8d39d4453399569dfb3e80fe01de75.png\n",
      "https://salt.tikicdn.com/cache/280x280/ts/product/1f/1d/33/e4a9d374b6dae49befae290a737a9fee.jpg\n",
      "https://salt.tikicdn.com/ts/upload/9f/32/dd/8a8d39d4453399569dfb3e80fe01de75.png\n",
      "https://salt.tikicdn.com/cache/280x280/media/catalog/producttmp/86/b4/8e/219efc3e01130ecd36e7c0562350a495.jpg\n",
      "https://salt.tikicdn.com/ts/upload/9f/32/dd/8a8d39d4453399569dfb3e80fe01de75.png\n",
      "https://salt.tikicdn.com/cache/280x280/ts/product/27/ed/73/502afa06f5f6c2533f9e45393974598a.jpg\n",
      "https://salt.tikicdn.com/ts/upload/9f/32/dd/8a8d39d4453399569dfb3e80fe01de75.png\n",
      "https://salt.tikicdn.com/cache/280x280/ts/product/d5/f0/9b/fc6e5e3e82eb0b87f4d398eb2ed6e277.jpg\n",
      "https://salt.tikicdn.com/ts/upload/9f/32/dd/8a8d39d4453399569dfb3e80fe01de75.png\n",
      "https://salt.tikicdn.com/cache/280x280/ts/product/9d/81/c0/efb6e28d086a5658c7e6d8551a37f661.jpg\n",
      "https://salt.tikicdn.com/ts/upload/9f/32/dd/8a8d39d4453399569dfb3e80fe01de75.png\n",
      "https://salt.tikicdn.com/cache/280x280/ts/product/0c/11/9e/113f5b302d6755ad2efc4a41738a98fa.jpg\n",
      "https://salt.tikicdn.com/ts/upload/9f/32/dd/8a8d39d4453399569dfb3e80fe01de75.png\n",
      "https://salt.tikicdn.com/cache/280x280/ts/product/69/26/ba/b0899922648fd36d90d278ea1d6ee978.jpg\n",
      "https://salt.tikicdn.com/ts/upload/9f/32/dd/8a8d39d4453399569dfb3e80fe01de75.png\n",
      "https://salt.tikicdn.com/cache/280x280/ts/product/19/8c/6f/8e646eada6674c38c07d1b73de0d105e.jpg\n",
      "https://salt.tikicdn.com/ts/upload/9f/32/dd/8a8d39d4453399569dfb3e80fe01de75.png\n",
      "https://salt.tikicdn.com/cache/280x280/ts/product/01/4f/86/eeac61bd21b98f7f21f8e1e5d5549e02.jpg\n",
      "https://salt.tikicdn.com/ts/upload/9f/32/dd/8a8d39d4453399569dfb3e80fe01de75.png\n",
      "https://salt.tikicdn.com/cache/280x280/ts/product/97/93/1f/58745c08bd36ccbb322cc1d5443d6f20.jpg\n",
      "https://salt.tikicdn.com/ts/upload/9f/32/dd/8a8d39d4453399569dfb3e80fe01de75.png\n",
      "https://salt.tikicdn.com/cache/280x280/ts/product/df/1f/72/2075bbe3649e5e54c0e1a201dcac8b3e.jpg\n",
      "https://salt.tikicdn.com/ts/upload/9f/32/dd/8a8d39d4453399569dfb3e80fe01de75.png\n",
      "https://salt.tikicdn.com/cache/280x280/ts/product/9e/0b/fc/07df185c7572af8de07c2414e8639036.jpg\n",
      "https://salt.tikicdn.com/ts/upload/9f/32/dd/8a8d39d4453399569dfb3e80fe01de75.png\n",
      "https://salt.tikicdn.com/cache/280x280/ts/product/79/a6/e1/c3fa59702e8c9881778fc5fcebb315b6.jpg\n",
      "https://salt.tikicdn.com/ts/upload/9f/32/dd/8a8d39d4453399569dfb3e80fe01de75.png\n",
      "https://salt.tikicdn.com/cache/280x280/ts/product/01/4f/86/38399e292c6ccaa7cf041e2a0bc87b8c.jpg\n",
      "https://salt.tikicdn.com/ts/upload/9f/32/dd/8a8d39d4453399569dfb3e80fe01de75.png\n",
      "https://salt.tikicdn.com/cache/280x280/ts/product/12/0f/57/be21a0eef237187b01caed9b407d94a1.jpg\n",
      "https://salt.tikicdn.com/ts/upload/9f/32/dd/8a8d39d4453399569dfb3e80fe01de75.png\n",
      "https://salt.tikicdn.com/cache/280x280/ts/product/96/e5/b9/272bc956ed09d0c08ab9c744dce9f9ad.jpg\n",
      "https://salt.tikicdn.com/ts/upload/9f/32/dd/8a8d39d4453399569dfb3e80fe01de75.png\n",
      "https://salt.tikicdn.com/cache/280x280/ts/product/5a/5b/02/7ad82ed724034b6a9ca10e16e1504924.jpg\n",
      "https://salt.tikicdn.com/ts/upload/9f/32/dd/8a8d39d4453399569dfb3e80fe01de75.png\n",
      "https://salt.tikicdn.com/cache/280x280/ts/product/c9/ba/85/ae2b01e57bf9af2ffb5e5aff81000f78.jpg\n",
      "https://salt.tikicdn.com/ts/upload/9f/32/dd/8a8d39d4453399569dfb3e80fe01de75.png\n",
      "https://salt.tikicdn.com/cache/280x280/ts/product/36/ac/8b/6578004ceeab85ab8ed0642fa659522d.jpg\n",
      "https://salt.tikicdn.com/ts/upload/9f/32/dd/8a8d39d4453399569dfb3e80fe01de75.png\n",
      "https://salt.tikicdn.com/cache/280x280/ts/product/83/ff/49/7174c8b4b04468f865ef9265d0c304be.jpg\n",
      "https://salt.tikicdn.com/ts/upload/9f/32/dd/8a8d39d4453399569dfb3e80fe01de75.png\n",
      "https://salt.tikicdn.com/cache/280x280/ts/product/ce/56/eb/22fc3cf98cff248a1dbbc4d4be111e56.jpg\n",
      "https://salt.tikicdn.com/ts/upload/9f/32/dd/8a8d39d4453399569dfb3e80fe01de75.png\n",
      "https://salt.tikicdn.com/cache/280x280/ts/product/d9/91/fe/74bd8a2096b589971c1dc24ab4dbf516.jpg\n",
      "https://salt.tikicdn.com/ts/upload/9f/32/dd/8a8d39d4453399569dfb3e80fe01de75.png\n",
      "https://salt.tikicdn.com/cache/280x280/ts/product/b3/ea/31/63e5c30149834d476dd9e9270f1bb4a2.jpg\n",
      "https://salt.tikicdn.com/ts/upload/9f/32/dd/8a8d39d4453399569dfb3e80fe01de75.png\n",
      "https://salt.tikicdn.com/cache/280x280/ts/product/9e/ab/d5/a851398a01733432bbff8d12db1a3a66.jpg\n",
      "https://salt.tikicdn.com/ts/upload/9f/32/dd/8a8d39d4453399569dfb3e80fe01de75.png\n",
      "https://salt.tikicdn.com/cache/280x280/ts/product/de/58/7c/26026bf6cc1d7bad6d151e1e3422af02.jpg\n"
     ]
    },
    {
     "name": "stdout",
     "output_type": "stream",
     "text": [
      "https://salt.tikicdn.com/ts/upload/9f/32/dd/8a8d39d4453399569dfb3e80fe01de75.png\n",
      "https://salt.tikicdn.com/cache/280x280/ts/product/17/6f/aa/b0ee86c0afefaad4169dc7612fda325a.jpg\n",
      "https://salt.tikicdn.com/ts/upload/9f/32/dd/8a8d39d4453399569dfb3e80fe01de75.png\n",
      "https://salt.tikicdn.com/cache/280x280/ts/product/7f/47/11/7717596e2baa79d2f0cd03a87c2cda91.jpg\n",
      "https://salt.tikicdn.com/ts/upload/9f/32/dd/8a8d39d4453399569dfb3e80fe01de75.png\n",
      "https://salt.tikicdn.com/cache/280x280/ts/product/77/08/9a/93dfa60afabe4600557327201f811cfc.jpg\n",
      "https://salt.tikicdn.com/ts/upload/9f/32/dd/8a8d39d4453399569dfb3e80fe01de75.png\n",
      "https://salt.tikicdn.com/cache/280x280/ts/product/48/12/cb/ad46e977c29918cad9f6343f1459c9e0.jpg\n",
      "https://salt.tikicdn.com/ts/upload/9f/32/dd/8a8d39d4453399569dfb3e80fe01de75.png\n",
      "https://salt.tikicdn.com/cache/280x280/ts/product/95/9d/70/64765dcc41be6ecaa1857561e3651a8e.jpg\n",
      "https://salt.tikicdn.com/ts/upload/9f/32/dd/8a8d39d4453399569dfb3e80fe01de75.png\n",
      "https://salt.tikicdn.com/cache/280x280/ts/product/05/b5/03/a448559a4f8b1e525c38755e42e321fb.jpg\n",
      "https://salt.tikicdn.com/ts/upload/9f/32/dd/8a8d39d4453399569dfb3e80fe01de75.png\n",
      "https://salt.tikicdn.com/cache/280x280/ts/product/78/45/80/d0d931b37e9fa08b13580467e223a000.jpg\n",
      "https://salt.tikicdn.com/ts/upload/9f/32/dd/8a8d39d4453399569dfb3e80fe01de75.png\n",
      "https://salt.tikicdn.com/cache/280x280/ts/product/93/3d/ab/fa10a3731f1301e36c571ffc45f9f2b8.jpg\n",
      "https://salt.tikicdn.com/ts/upload/9f/32/dd/8a8d39d4453399569dfb3e80fe01de75.png\n",
      "https://salt.tikicdn.com/ts/upload/3d/6c/27/216e535ff06b1b925796957a017cbedb.png\n"
     ]
    }
   ],
   "source": [
    "for url in urls: \n",
    "    print(url)\n",
    "    filename = re.search(r'/([\\w_-]+[.](jpg|gif|png))$', url) \n",
    "    if filename:\n",
    "        #create a new folder to contain the images downloaded\n",
    "        with open(\"images_tiki\"+filename.group(0), 'wb') as f: \n",
    "            if 'http' not in url:\n",
    "                url = '{}{}'.format(site, url) \n",
    "            response = requests.get(url) \n",
    "            f.write(response.content)"
   ]
  },
  {
   "cell_type": "code",
   "execution_count": null,
   "metadata": {},
   "outputs": [],
   "source": []
  }
 ],
 "metadata": {
  "kernelspec": {
   "display_name": "Python 3",
   "language": "python",
   "name": "python3"
  },
  "language_info": {
   "codemirror_mode": {
    "name": "ipython",
    "version": 3
   },
   "file_extension": ".py",
   "mimetype": "text/x-python",
   "name": "python",
   "nbconvert_exporter": "python",
   "pygments_lexer": "ipython3",
   "version": "3.7.4"
  }
 },
 "nbformat": 4,
 "nbformat_minor": 2
}
